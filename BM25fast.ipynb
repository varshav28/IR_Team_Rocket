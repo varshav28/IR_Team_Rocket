{
 "cells": [
  {
   "cell_type": "code",
   "execution_count": 24,
   "id": "bd5b30dd",
   "metadata": {},
   "outputs": [],
   "source": [
    "import numpy as np\n",
    "from sklearn.feature_extraction.text import TfidfVectorizer\n",
    "from scipy import sparse\n",
    "#https://gist.github.com/koreyou/f3a8a0470d32aa56b32f198f49a9f2b8\n",
    "\n",
    "class BM25(object):\n",
    "    def __init__(self, b=0.75, k1=1.6):\n",
    "        self.vectorizer = TfidfVectorizer(norm=None, smooth_idf=False)\n",
    "        self.b = b\n",
    "        self.k1 = k1\n",
    "\n",
    "    def fit(self, X):\n",
    "        \"\"\" Fit IDF to documents X \"\"\"\n",
    "        print(\"fitting vectorizer\")\n",
    "        self.vectorizer.fit(X)\n",
    "        print(\"done fitting vectorizer...now transforming doc\")\n",
    "        self.transformed = super(TfidfVectorizer, self.vectorizer).transform(X)\n",
    "        print(\"done transforming doc\")\n",
    "        self.avdl = self.transformed.sum(1).mean()\n",
    "\n",
    "    def transform(self, q, X):\n",
    "        \"\"\" Calculate BM25 between query q and documents X \"\"\"\n",
    "        b, k1, avdl = self.b, self.k1, self.avdl\n",
    "\n",
    "        # apply CountVectorizer\n",
    "        #X = super(TfidfVectorizer, self.vectorizer).transform(X)\n",
    "        len_X = self.transformed.sum(1).A1\n",
    "        print(\"transforming query\")\n",
    "        q, = self.vectorizer.transform([q])\n",
    "        print(\"done transforming query\")\n",
    "        assert sparse.isspmatrix_csr(q)\n",
    "\n",
    "        # convert to csc for better column slicing\n",
    "        X = self.transformed.tocsc()[:, q.indices]\n",
    "        denom = X + (k1 * (1 - b + b * len_X / avdl))[:, None]\n",
    "        # idf(t) = log [ n / df(t) ] + 1 in sklearn, so it need to be coneverted\n",
    "        # to idf(t) = log [ n / df(t) ] with minus 1\n",
    "        idf = self.vectorizer._tfidf.idf_[None, q.indices] - 1.\n",
    "        numer = X.multiply(np.broadcast_to(idf, X.shape)) * (k1 + 1)                                                          \n",
    "        return (numer / denom).sum(1).A1"
   ]
  },
  {
   "cell_type": "code",
   "execution_count": 1,
   "id": "556c8759",
   "metadata": {},
   "outputs": [],
   "source": [
    "#from sklearn.datasets import fetch_20newsgroups\n",
    "import pandas as pd\n",
    "import pickle as pickle\n",
    "def query_text(query):\n",
    "    tokenizer = RegexpTokenizer(r'\\w+')\n",
    "    stop_words = set(stopwords.words('english'))\n",
    "    #query = 'In C++, can you define a variable in terms of other variables that have already been defined?'\n",
    "    query = tokenizer.tokenize(query)\n",
    "    query = [i for i in query if not i in stop_words]\n",
    "\n",
    "    query = [lemmatizer.lemmatize(word) for word in query]\n",
    "    query = [i.lower() for i in query]\n",
    "    query = ' '.join([text for text in query])\n",
    "    return query"
   ]
  },
  {
   "cell_type": "code",
   "execution_count": 25,
   "id": "a8552f2f",
   "metadata": {},
   "outputs": [
    {
     "name": "stdout",
     "output_type": "stream",
     "text": [
      ":loading data\n",
      "fitting data\n",
      "fitting vectorizer\n",
      "done fitting vectorizer...now transforming doc\n",
      "done transforming doc\n"
     ]
    }
   ],
   "source": [
    "#texts = fetch_20newsgroups(subset='train').data\n",
    "#print(texts)\n",
    "bm25 = BM25()\n",
    "print(\":loading data\")\n",
    "df = pickle.load(open(\"proc_sentences.pkl\",'rb'))\n",
    "#fulldf = pd.read_pickle(\"processed_data_2.pkl\")\n",
    "texts = df[\"Combine\"]\n",
    "print(\"fitting data\")\n",
    "bm25.fit(texts)"
   ]
  },
  {
   "cell_type": "code",
   "execution_count": 3,
   "id": "0da439e8",
   "metadata": {},
   "outputs": [],
   "source": [
    "data = pd.read_pickle(\"processed_data_2.pkl\")\n",
    "data = data.filter([\"id\" , \"title\"])\n",
    "data.to_pickle(\"processed_data_small.pkl\")"
   ]
  },
  {
   "cell_type": "code",
   "execution_count": 54,
   "id": "d89190ba",
   "metadata": {},
   "outputs": [
    {
     "data": {
      "text/html": [
       "<div>\n",
       "<style scoped>\n",
       "    .dataframe tbody tr th:only-of-type {\n",
       "        vertical-align: middle;\n",
       "    }\n",
       "\n",
       "    .dataframe tbody tr th {\n",
       "        vertical-align: top;\n",
       "    }\n",
       "\n",
       "    .dataframe thead th {\n",
       "        text-align: right;\n",
       "    }\n",
       "</style>\n",
       "<table border=\"1\" class=\"dataframe\">\n",
       "  <thead>\n",
       "    <tr style=\"text-align: right;\">\n",
       "      <th></th>\n",
       "      <th>id</th>\n",
       "      <th>title</th>\n",
       "    </tr>\n",
       "  </thead>\n",
       "  <tbody>\n",
       "    <tr>\n",
       "      <th>6827</th>\n",
       "      <td>63728809</td>\n",
       "      <td>Discord.JS TypeError: ping is not a function</td>\n",
       "    </tr>\n",
       "    <tr>\n",
       "      <th>14316</th>\n",
       "      <td>63697165</td>\n",
       "      <td>Discord ping command</td>\n",
       "    </tr>\n",
       "    <tr>\n",
       "      <th>79234</th>\n",
       "      <td>63431087</td>\n",
       "      <td>I am having an issue with Discord.js</td>\n",
       "    </tr>\n",
       "    <tr>\n",
       "      <th>43917</th>\n",
       "      <td>63575936</td>\n",
       "      <td>Getting API latency inside of a commandhandler</td>\n",
       "    </tr>\n",
       "    <tr>\n",
       "      <th>82519</th>\n",
       "      <td>63417565</td>\n",
       "      <td>Error whilst trying to use client.latency in a...</td>\n",
       "    </tr>\n",
       "    <tr>\n",
       "      <th>...</th>\n",
       "      <td>...</td>\n",
       "      <td>...</td>\n",
       "    </tr>\n",
       "    <tr>\n",
       "      <th>87345</th>\n",
       "      <td>63398028</td>\n",
       "      <td>Python3 How to print a statement that takes va...</td>\n",
       "    </tr>\n",
       "    <tr>\n",
       "      <th>87344</th>\n",
       "      <td>63398029</td>\n",
       "      <td>Changing the image of long clicked Sprite</td>\n",
       "    </tr>\n",
       "    <tr>\n",
       "      <th>87343</th>\n",
       "      <td>63398031</td>\n",
       "      <td>Change google maps street view position dynami...</td>\n",
       "    </tr>\n",
       "    <tr>\n",
       "      <th>87341</th>\n",
       "      <td>63398035</td>\n",
       "      <td>Firebase Relatime Database: Retrieving data fr...</td>\n",
       "    </tr>\n",
       "    <tr>\n",
       "      <th>199999</th>\n",
       "      <td>62942936</td>\n",
       "      <td>aws cli to loop through rds instances</td>\n",
       "    </tr>\n",
       "  </tbody>\n",
       "</table>\n",
       "<p>200000 rows × 2 columns</p>\n",
       "</div>"
      ],
      "text/plain": [
       "              id                                              title\n",
       "6827    63728809       Discord.JS TypeError: ping is not a function\n",
       "14316   63697165                               Discord ping command\n",
       "79234   63431087               I am having an issue with Discord.js\n",
       "43917   63575936     Getting API latency inside of a commandhandler\n",
       "82519   63417565  Error whilst trying to use client.latency in a...\n",
       "...          ...                                                ...\n",
       "87345   63398028  Python3 How to print a statement that takes va...\n",
       "87344   63398029          Changing the image of long clicked Sprite\n",
       "87343   63398031  Change google maps street view position dynami...\n",
       "87341   63398035  Firebase Relatime Database: Retrieving data fr...\n",
       "199999  62942936              aws cli to loop through rds instances\n",
       "\n",
       "[200000 rows x 2 columns]"
      ]
     },
     "execution_count": 54,
     "metadata": {},
     "output_type": "execute_result"
    }
   ],
   "source": [
    "d= data\n",
    "d[\"Sim\"] = order[1:]\n",
    "d = d.sort_values(by=[\"Sim\"], ascending=False)\n",
    "d[['id' ,'title']]"
   ]
  },
  {
   "cell_type": "code",
   "execution_count": 55,
   "id": "17652ca3",
   "metadata": {},
   "outputs": [
    {
     "name": "stdout",
     "output_type": "stream",
     "text": [
      "                                                  Combine\n",
      "0       in c define variable term variable already def...\n",
      "1       typeerror ping function im trying make discord...\n",
      "2       getting nonetype recursion python this questio...\n",
      "3       in c define variable term variable already def...\n",
      "4       panda dataframe update based date value 2 data...\n",
      "...                                                   ...\n",
      "199996  qt desiger wizard add new page i trying create...\n",
      "199997  how install apache solr mac os i need create i...\n",
      "199998  image slider work using react router on front ...\n",
      "199999  error undefined local variable method action_n...\n",
      "200000  aws cli loop rds instance i run aws rds descri...\n",
      "\n",
      "[200001 rows x 1 columns]\n"
     ]
    }
   ],
   "source": [
    "print(df)"
   ]
  },
  {
   "cell_type": "code",
   "execution_count": 58,
   "id": "dc9f6264",
   "metadata": {},
   "outputs": [
    {
     "name": "stdout",
     "output_type": "stream",
     "text": [
      "Query is :  discord type error ping\n",
      "transforming query\n",
      "done transforming query\n",
      "0.3158385753631592\n"
     ]
    }
   ],
   "source": [
    "query=\"discord type error ping\"\n",
    "def query_input(query, qt = 150, start = 1):\n",
    "    print(\"Query is : \" , query)\n",
    "    \n",
    "    order=bm25.transform(query, texts)\n",
    "    sorted_order  = np.argsort(order)\n",
    "#     answers=[]\n",
    "#     for i in range(start,qt):\n",
    "#         answers.append( texts[sorted_order[-i]])\n",
    "    d= data\n",
    "    d[\"Sim\"] = order[1:]\n",
    "    d = d.sort_values(by=[\"Sim\"], ascending=False)\n",
    "    result=d[['id' ,'title']]\n",
    "    return result\n",
    "import time\n",
    "start = time.time()\n",
    "(query_input(\"discord type error ping\"))\n",
    "(query_input(\"array out of bounds\"))\n",
    "(query_input(\"null pointer exception\"))\n",
    "(query_input(\"C++ segmentation fault\"))\n",
    "(query_input(\"objects cant be called as function\"))\n",
    "end=time.time()\n",
    "print(end-start)\n"
   ]
  },
  {
   "cell_type": "code",
   "execution_count": 33,
   "id": "3889317c",
   "metadata": {},
   "outputs": [
    {
     "name": "stdout",
     "output_type": "stream",
     "text": [
      "discord ping command i tried use following ping command i trigger give following error the code const discord require discord j module export run async bot message args gt let waiting await message channel send quot pinging hourglass quot catch console error let embed new discord messageembed settitle quot dragonite amp api latency quot bot user avatarurl setcolor quot f900ff quot addfield quot dragonite quot waiting createdtimestamp message createdtimestamp quot m quot true addfield quot api quot math round bot ping quot m quot true addfooter quot dragonite requested quot message author tag waiting edit embed catch console error module export help name quot ping quot description quot calculate dragonite amp api latency quot usage quot ping quot example quot ping quot the error node 23760 unhandledpromiserejectionwarning typeerror intermediate value settitle setcolor addfield addfield addfooter function addfooter function cannot one footer instead use setfooter there typo code fix const discord require discord j module export run async bot message args gt let waiting await message channel send pinging hourglass catch console error let embed new discord messageembed settitle quot dragonite amp api latency quot bot user avatarurl setcolor f900ff addfield dragonite waiting createdtimestamp message createdtimestamp m true addfield api math round bot ping m true setfooter dragonite requested message author tag waiting edit embed catch console error module export help name ping description quot calculate dragonite amp api latency quot usage ping example ping typo change addfooter setfooter http discordjs guide popular topic embeds html using richembedmessageembed constructor javascript discord j\n",
      "####\n",
      "discord js typeerror ping function i trying make command bot ping minecraft server hypixel whenever i run bot type command i get ping mc hypixel net 25565 error response gt typeerror ping function this code client message message gt let args message content slice prefix length split switch args 0 case mc ping mc hypixel net 25565 error response gt error throw error console log response break discord j support command package just install minecraft server util npm minecraft server util put code const ping require minecraft server util use ping command ping lt name server gt port 25565 response gt sending response channel command initiated return message channel send response catching eventual error catch error gt throw error discord j typeerror\n"
     ]
    }
   ],
   "source": [
    "sorted_order = np.argsort(order)\n",
    "print(texts[sorted_order[-2]])\n",
    "print(\"####\")\n",
    "print(texts[sorted_order[-1]])"
   ]
  }
 ],
 "metadata": {
  "kernelspec": {
   "display_name": "Python 3",
   "language": "python",
   "name": "python3"
  },
  "language_info": {
   "codemirror_mode": {
    "name": "ipython",
    "version": 3
   },
   "file_extension": ".py",
   "mimetype": "text/x-python",
   "name": "python",
   "nbconvert_exporter": "python",
   "pygments_lexer": "ipython3",
   "version": "3.8.10"
  }
 },
 "nbformat": 4,
 "nbformat_minor": 5
}
