{
 "cells": [
  {
   "cell_type": "code",
   "execution_count": 1,
   "id": "e29eff9e",
   "metadata": {},
   "outputs": [],
   "source": [
    "import pandas as pd\n",
    "import numpy as np\n",
    "import pickle"
   ]
  },
  {
   "cell_type": "code",
   "execution_count": 2,
   "id": "65a22790",
   "metadata": {},
   "outputs": [],
   "source": [
    "data = pd.read_pickle(\"processed_data_small.pkl\")"
   ]
  },
  {
   "cell_type": "code",
   "execution_count": 3,
   "id": "1cfc5d0d",
   "metadata": {},
   "outputs": [
    {
     "data": {
      "text/html": [
       "<div>\n",
       "<style scoped>\n",
       "    .dataframe tbody tr th:only-of-type {\n",
       "        vertical-align: middle;\n",
       "    }\n",
       "\n",
       "    .dataframe tbody tr th {\n",
       "        vertical-align: top;\n",
       "    }\n",
       "\n",
       "    .dataframe thead th {\n",
       "        text-align: right;\n",
       "    }\n",
       "</style>\n",
       "<table border=\"1\" class=\"dataframe\">\n",
       "  <thead>\n",
       "    <tr style=\"text-align: right;\">\n",
       "      <th></th>\n",
       "      <th>id</th>\n",
       "      <th>title</th>\n",
       "    </tr>\n",
       "  </thead>\n",
       "  <tbody>\n",
       "    <tr>\n",
       "      <th>0</th>\n",
       "      <td>63760878</td>\n",
       "      <td>TypeError: ping is not a function</td>\n",
       "    </tr>\n",
       "    <tr>\n",
       "      <th>1</th>\n",
       "      <td>63760853</td>\n",
       "      <td>getting nonetype during recursion in python</td>\n",
       "    </tr>\n",
       "    <tr>\n",
       "      <th>2</th>\n",
       "      <td>63760838</td>\n",
       "      <td>In C++, can you define a variable in terms of ...</td>\n",
       "    </tr>\n",
       "    <tr>\n",
       "      <th>3</th>\n",
       "      <td>63760836</td>\n",
       "      <td>pandas dataframe update based on date values i...</td>\n",
       "    </tr>\n",
       "    <tr>\n",
       "      <th>4</th>\n",
       "      <td>63760835</td>\n",
       "      <td>Python while loop ask more than once for input</td>\n",
       "    </tr>\n",
       "  </tbody>\n",
       "</table>\n",
       "</div>"
      ],
      "text/plain": [
       "         id                                              title\n",
       "0  63760878                  TypeError: ping is not a function\n",
       "1  63760853        getting nonetype during recursion in python\n",
       "2  63760838  In C++, can you define a variable in terms of ...\n",
       "3  63760836  pandas dataframe update based on date values i...\n",
       "4  63760835     Python while loop ask more than once for input"
      ]
     },
     "execution_count": 3,
     "metadata": {},
     "output_type": "execute_result"
    }
   ],
   "source": [
    "data.head()"
   ]
  },
  {
   "cell_type": "code",
   "execution_count": 6,
   "id": "48c28c57",
   "metadata": {},
   "outputs": [
    {
     "data": {
      "application/vnd.jupyter.widget-view+json": {
       "model_id": "017545e0722e40a3bb861e0c945b1f1b",
       "version_major": 2,
       "version_minor": 0
      },
      "text/plain": [
       "Downloading:   0%|          | 0.00/690 [00:00<?, ?B/s]"
      ]
     },
     "metadata": {},
     "output_type": "display_data"
    },
    {
     "data": {
      "application/vnd.jupyter.widget-view+json": {
       "model_id": "401c9a36eb504b60bdf14b2305345e2e",
       "version_major": 2,
       "version_minor": 0
      },
      "text/plain": [
       "Downloading:   0%|          | 0.00/3.69k [00:00<?, ?B/s]"
      ]
     },
     "metadata": {},
     "output_type": "display_data"
    },
    {
     "data": {
      "application/vnd.jupyter.widget-view+json": {
       "model_id": "550f54e9307449fdbb2d41218c065c61",
       "version_major": 2,
       "version_minor": 0
      },
      "text/plain": [
       "Downloading:   0%|          | 0.00/629 [00:00<?, ?B/s]"
      ]
     },
     "metadata": {},
     "output_type": "display_data"
    },
    {
     "data": {
      "application/vnd.jupyter.widget-view+json": {
       "model_id": "8a022ab1f5b742b49bf2af5dfa9a9c13",
       "version_major": 2,
       "version_minor": 0
      },
      "text/plain": [
       "Downloading:   0%|          | 0.00/122 [00:00<?, ?B/s]"
      ]
     },
     "metadata": {},
     "output_type": "display_data"
    },
    {
     "data": {
      "application/vnd.jupyter.widget-view+json": {
       "model_id": "2649fb26f45a4b2eb7f3319d4befa043",
       "version_major": 2,
       "version_minor": 0
      },
      "text/plain": [
       "Downloading:   0%|          | 0.00/229 [00:00<?, ?B/s]"
      ]
     },
     "metadata": {},
     "output_type": "display_data"
    },
    {
     "data": {
      "application/vnd.jupyter.widget-view+json": {
       "model_id": "7133413aeddb46d5bd352f5403186bbd",
       "version_major": 2,
       "version_minor": 0
      },
      "text/plain": [
       "Downloading:   0%|          | 0.00/90.9M [00:00<?, ?B/s]"
      ]
     },
     "metadata": {},
     "output_type": "display_data"
    },
    {
     "data": {
      "application/vnd.jupyter.widget-view+json": {
       "model_id": "8312047d26064613b8dbde2ebc0d4539",
       "version_major": 2,
       "version_minor": 0
      },
      "text/plain": [
       "Downloading:   0%|          | 0.00/53.0 [00:00<?, ?B/s]"
      ]
     },
     "metadata": {},
     "output_type": "display_data"
    },
    {
     "data": {
      "application/vnd.jupyter.widget-view+json": {
       "model_id": "467d0824cae144bca2a558ea3a4961b1",
       "version_major": 2,
       "version_minor": 0
      },
      "text/plain": [
       "Downloading:   0%|          | 0.00/112 [00:00<?, ?B/s]"
      ]
     },
     "metadata": {},
     "output_type": "display_data"
    },
    {
     "data": {
      "application/vnd.jupyter.widget-view+json": {
       "model_id": "e04ebd958be24a158f157b514961c5ae",
       "version_major": 2,
       "version_minor": 0
      },
      "text/plain": [
       "Downloading:   0%|          | 0.00/466k [00:00<?, ?B/s]"
      ]
     },
     "metadata": {},
     "output_type": "display_data"
    },
    {
     "data": {
      "application/vnd.jupyter.widget-view+json": {
       "model_id": "924b20724fdb462eaa9f98a8918d20d9",
       "version_major": 2,
       "version_minor": 0
      },
      "text/plain": [
       "Downloading:   0%|          | 0.00/516 [00:00<?, ?B/s]"
      ]
     },
     "metadata": {},
     "output_type": "display_data"
    },
    {
     "data": {
      "application/vnd.jupyter.widget-view+json": {
       "model_id": "cbe4d95c1a5143faa238698fcf31bf4e",
       "version_major": 2,
       "version_minor": 0
      },
      "text/plain": [
       "Downloading:   0%|          | 0.00/232k [00:00<?, ?B/s]"
      ]
     },
     "metadata": {},
     "output_type": "display_data"
    },
    {
     "data": {
      "application/vnd.jupyter.widget-view+json": {
       "model_id": "11dc1dcd01ab449e946c211173c65fcc",
       "version_major": 2,
       "version_minor": 0
      },
      "text/plain": [
       "Downloading:   0%|          | 0.00/190 [00:00<?, ?B/s]"
      ]
     },
     "metadata": {},
     "output_type": "display_data"
    }
   ],
   "source": [
    "\n",
    "from sentence_transformers import SentenceTransformer, util\n",
    "model = SentenceTransformer('paraphrase-MiniLM-L6-v2')"
   ]
  },
  {
   "cell_type": "code",
   "execution_count": 25,
   "id": "e823c5da",
   "metadata": {},
   "outputs": [],
   "source": [
    "doc_encoding = model.encode(data[\"title\"])"
   ]
  },
  {
   "cell_type": "code",
   "execution_count": 19,
   "id": "23e96d17",
   "metadata": {},
   "outputs": [],
   "source": [
    "query  = \"discord type error\"\n",
    "query_encoding = model.encode(query)"
   ]
  },
  {
   "cell_type": "code",
   "execution_count": 20,
   "id": "f8564236",
   "metadata": {},
   "outputs": [],
   "source": [
    "from sklearn.metrics.pairwise import cosine_similarity\n",
    "scores = cosine_similarity([query_encoding] , doc_encoding)\n"
   ]
  },
  {
   "cell_type": "code",
   "execution_count": 21,
   "id": "23ec1830",
   "metadata": {},
   "outputs": [
    {
     "data": {
      "text/plain": [
       "array([[ 0.13535446,  0.12152423, -0.04183523, ...,  0.13213049,\n",
       "         0.09090725,  0.05696621]], dtype=float32)"
      ]
     },
     "execution_count": 21,
     "metadata": {},
     "output_type": "execute_result"
    }
   ],
   "source": [
    "scores"
   ]
  },
  {
   "cell_type": "code",
   "execution_count": 24,
   "id": "2170681b",
   "metadata": {},
   "outputs": [
    {
     "data": {
      "text/html": [
       "<div>\n",
       "<style scoped>\n",
       "    .dataframe tbody tr th:only-of-type {\n",
       "        vertical-align: middle;\n",
       "    }\n",
       "\n",
       "    .dataframe tbody tr th {\n",
       "        vertical-align: top;\n",
       "    }\n",
       "\n",
       "    .dataframe thead th {\n",
       "        text-align: right;\n",
       "    }\n",
       "</style>\n",
       "<table border=\"1\" class=\"dataframe\">\n",
       "  <thead>\n",
       "    <tr style=\"text-align: right;\">\n",
       "      <th></th>\n",
       "      <th>id</th>\n",
       "      <th>title</th>\n",
       "    </tr>\n",
       "  </thead>\n",
       "  <tbody>\n",
       "    <tr>\n",
       "      <th>28571</th>\n",
       "      <td>63638976</td>\n",
       "      <td>Assign object values conditionally JavaScript</td>\n",
       "    </tr>\n",
       "    <tr>\n",
       "      <th>3166</th>\n",
       "      <td>63745604</td>\n",
       "      <td>javascript display all value of a json</td>\n",
       "    </tr>\n",
       "    <tr>\n",
       "      <th>67580</th>\n",
       "      <td>63478723</td>\n",
       "      <td>Find values in dynamic JSON results</td>\n",
       "    </tr>\n",
       "    <tr>\n",
       "      <th>91971</th>\n",
       "      <td>63379374</td>\n",
       "      <td>Add dates before and after existing ones in JS...</td>\n",
       "    </tr>\n",
       "    <tr>\n",
       "      <th>14559</th>\n",
       "      <td>63696277</td>\n",
       "      <td>Target the current value of an option list usi...</td>\n",
       "    </tr>\n",
       "    <tr>\n",
       "      <th>...</th>\n",
       "      <td>...</td>\n",
       "      <td>...</td>\n",
       "    </tr>\n",
       "    <tr>\n",
       "      <th>94506</th>\n",
       "      <td>63369027</td>\n",
       "      <td>Handling errors in discord.py (no permission)</td>\n",
       "    </tr>\n",
       "    <tr>\n",
       "      <th>74918</th>\n",
       "      <td>63449150</td>\n",
       "      <td>Problem with embed in discord, doesn't write</td>\n",
       "    </tr>\n",
       "    <tr>\n",
       "      <th>83106</th>\n",
       "      <td>63415132</td>\n",
       "      <td>I get an error when running my discord.js bot</td>\n",
       "    </tr>\n",
       "    <tr>\n",
       "      <th>86056</th>\n",
       "      <td>63403363</td>\n",
       "      <td>Discord Application Bot - Discord.js</td>\n",
       "    </tr>\n",
       "    <tr>\n",
       "      <th>7324</th>\n",
       "      <td>63726662</td>\n",
       "      <td>Problems with discord.js v12</td>\n",
       "    </tr>\n",
       "  </tbody>\n",
       "</table>\n",
       "<p>100000 rows × 2 columns</p>\n",
       "</div>"
      ],
      "text/plain": [
       "             id                                              title\n",
       "28571  63638976      Assign object values conditionally JavaScript\n",
       "3166   63745604             javascript display all value of a json\n",
       "67580  63478723                Find values in dynamic JSON results\n",
       "91971  63379374  Add dates before and after existing ones in JS...\n",
       "14559  63696277  Target the current value of an option list usi...\n",
       "...         ...                                                ...\n",
       "94506  63369027      Handling errors in discord.py (no permission)\n",
       "74918  63449150       Problem with embed in discord, doesn't write\n",
       "83106  63415132      I get an error when running my discord.js bot\n",
       "86056  63403363               Discord Application Bot - Discord.js\n",
       "7324   63726662                       Problems with discord.js v12\n",
       "\n",
       "[100000 rows x 2 columns]"
      ]
     },
     "execution_count": 24,
     "metadata": {},
     "output_type": "execute_result"
    }
   ],
   "source": [
    "data.iloc[np.argsort(scores)[-1]]"
   ]
  },
  {
   "cell_type": "code",
   "execution_count": 26,
   "id": "43b58bc4",
   "metadata": {},
   "outputs": [],
   "source": [
    "with open('doc_encoding_bert_full.pickle', 'wb') as handle:\n",
    "    pickle.dump(doc_encoding, handle, protocol=pickle.HIGHEST_PROTOCOL)"
   ]
  },
  {
   "cell_type": "code",
   "execution_count": null,
   "id": "6435b77e",
   "metadata": {},
   "outputs": [],
   "source": []
  }
 ],
 "metadata": {
  "kernelspec": {
   "display_name": "Python 3",
   "language": "python",
   "name": "python3"
  },
  "language_info": {
   "codemirror_mode": {
    "name": "ipython",
    "version": 3
   },
   "file_extension": ".py",
   "mimetype": "text/x-python",
   "name": "python",
   "nbconvert_exporter": "python",
   "pygments_lexer": "ipython3",
   "version": "3.8.10"
  }
 },
 "nbformat": 4,
 "nbformat_minor": 5
}
